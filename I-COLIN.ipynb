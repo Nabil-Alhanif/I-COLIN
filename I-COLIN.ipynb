{
 "metadata": {
  "language_info": {
   "codemirror_mode": {
    "name": "ipython",
    "version": 3
   },
   "file_extension": ".py",
   "mimetype": "text/x-python",
   "name": "python",
   "nbconvert_exporter": "python",
   "pygments_lexer": "ipython3",
   "version": "3.8.5-final"
  },
  "orig_nbformat": 2,
  "kernelspec": {
   "name": "python38564bittesvenv33fd767831454e34b31d0bf7296271e1",
   "display_name": "Python 3.8.5 64-bit ('tes': venv)"
  }
 },
 "nbformat": 4,
 "nbformat_minor": 2,
 "cells": [
  {
   "source": [
    "import Bio\n",
    "from Bio import SeqIO\n",
    "import dnachisel\n",
    "\n",
    "AloeChloroplastGenBank=SeqIO.read(\"AloeChloroplast.gb\",\"genbank\")\n",
    "print(AloeChloroplastGenBank.id)"
   ],
   "cell_type": "code",
   "metadata": {},
   "execution_count": 5,
   "outputs": [
    {
     "output_type": "stream",
     "name": "stdout",
     "text": [
      "NC_035506.1\n"
     ]
    }
   ]
  },
  {
   "cell_type": "code",
   "execution_count": null,
   "metadata": {},
   "outputs": [],
   "source": []
  }
 ]
}