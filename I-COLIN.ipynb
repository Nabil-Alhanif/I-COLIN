{
 "metadata": {
  "language_info": {
   "codemirror_mode": {
    "name": "ipython",
    "version": 3
   },
   "file_extension": ".py",
   "mimetype": "text/x-python",
   "name": "python",
   "nbconvert_exporter": "python",
   "pygments_lexer": "ipython3",
   "version": "3.8.2-final"
  },
  "orig_nbformat": 2,
  "kernelspec": {
   "name": "python38232bit0da2c4e819b84e5994f61a2b716807c8",
   "display_name": "Python 3.8.2 32-bit"
  }
 },
 "nbformat": 4,
 "nbformat_minor": 2,
 "cells": [
  {
   "source": [
    "import Bio\n",
    "from Bio import SeqIO\n",
    "import dnachisel\n",
    "\n",
    "AloeChloroplastGenBank=SeqIO.read(\"Genome/Aloe Chloroplast.gb\",\"genbank\")\n",
    "print(AloeChloroplastGenBank.id)\n",
    "\n",
    "for CODON_TABLE in dnachisel.biotools.CODON_TABLE_NAMES:\n",
    "    print(CODON_TABLE)"
   ],
   "cell_type": "code",
   "metadata": {},
   "execution_count": 5,
   "outputs": [
    {
     "output_type": "stream",
     "name": "stdout",
     "text": [
      "NC_035506.1\nStandard\nSGC0\nVertebrate Mitochondrial\nSGC1\nYeast Mitochondrial\nSGC2\nMold Mitochondrial\nProtozoan Mitochondrial\nCoelenterate Mitochondrial\nMycoplasma\nSpiroplasma\nSGC3\nInvertebrate Mitochondrial\nSGC4\nCiliate Nuclear\nDasycladacean Nuclear\nHexamita Nuclear\nSGC5\nEchinoderm Mitochondrial\nFlatworm Mitochondrial\nSGC8\nEuplotid Nuclear\nSGC9\nBacterial\nArchaeal\nPlant Plastid\nAlternative Yeast Nuclear\nAscidian Mitochondrial\nAlternative Flatworm Mitochondrial\nBlepharisma Macronuclear\nChlorophycean Mitochondrial\nTrematode Mitochondrial\nScenedesmus obliquus Mitochondrial\nThraustochytrium Mitochondrial\nPterobranchia Mitochondrial\nCandidate Division SR1\nGracilibacteria\nPachysolen tannophilus Nuclear\nKaryorelict Nuclear\nCondylostoma Nuclear\nMesodinium Nuclear\nPeritrich Nuclear\nBlastocrithidia Nuclear\nBalanophoraceae Plastid\n"
     ]
    }
   ]
  },
  {
   "cell_type": "code",
   "execution_count": 2,
   "metadata": {},
   "outputs": [
    {
     "output_type": "stream",
     "name": "stderr",
     "text": [
      "objective:   0%|          | 0/1 [00:00<?, ?it/s, now=MaximizeCAI[0-465](34199)...]\n",
      "location:   0%|          | 0/80 [00:00<?, ?it/s, now=None]\u001b[A\n",
      "location:   0%|          | 0/80 [00:00<?, ?it/s, now=0-3] \u001b[A\n",
      "                                                                                  NM_000207.3 Homo sapiens insulin (INS), transcript variant 1, mRNA\n",
      "AGCCCTCCAGGACAGGCTGCATCAGAAGAGGCCATCAAGCAGATCACTGTCCTTCTGCCATGGCCCTGTGGATGCGCCTCCTGCCCCTGCTGGCGCTGCTGGCCCTCTGGGGACCTGACCCAGCCGCAGCCTTTGTGAACCAACACCTGTGCGGCTCACACCTGGTGGAAGCTCTCTACCTAGTGTGCGGGGAACGAGGCTTCTTCTACACACCCAAGACCCGCCGGGAGGCAGAGGACCTGCAGGTGGGGCAGGTGGAGCTGGGCGGGGGCCCTGGTGCAGGCAGCCTGCAGCCCTTGGCCCTGGAGGGGTCCCTGCAGAAGCGTGGCATTGTGGAACAATGCTGTACCAGCATCTGCTCCCTCTACCAGCTGGAGAACTACTGCAACTAGACGCAGCCCGCAGGCAGCCCCACACCCGCCGCCTCCTGCACCGAGAGAGATGGAATAAAGCCCTTGAACCAGC\n",
      "===> SUCCESS - all constraints evaluations pass\n",
      "✔PASS ┍ EnforceTranslation[0-465]\n",
      "      │ Enforced by nucleotides restrictions\n",
      "\n",
      "\n",
      "===> TOTAL OBJECTIVES SCORE:         0\n",
      "✔        0 ┍ MaximizeCAI[0-465](34199) \n",
      "           │ Codon opt. on window 0-465 scored -0.00E+00\n",
      "\n",
      "\n"
     ]
    },
    {
     "output_type": "error",
     "ename": "TypeError",
     "evalue": "not all arguments converted during string formatting",
     "traceback": [
      "\u001b[1;31m---------------------------------------------------------------------------\u001b[0m",
      "\u001b[1;31mTypeError\u001b[0m                                 Traceback (most recent call last)",
      "\u001b[1;32m<ipython-input-2-237d47b6b492>\u001b[0m in \u001b[0;36m<module>\u001b[1;34m\u001b[0m\n\u001b[0;32m     31\u001b[0m \u001b[1;33m\u001b[0m\u001b[0m\n\u001b[0;32m     32\u001b[0m     \u001b[0mfinal_sequence\u001b[0m \u001b[1;33m=\u001b[0m \u001b[0mproblem\u001b[0m\u001b[1;33m.\u001b[0m\u001b[0msequence\u001b[0m  \u001b[1;31m# string\u001b[0m\u001b[1;33m\u001b[0m\u001b[1;33m\u001b[0m\u001b[0m\n\u001b[1;32m---> 33\u001b[1;33m     \u001b[0mfinalSequence\u001b[0m\u001b[1;33m+=\u001b[0m\u001b[1;33m(\u001b[0m\u001b[1;34m'-'\u001b[0m\u001b[1;33m*\u001b[0m\u001b[0mlen\u001b[0m\u001b[1;33m(\u001b[0m\u001b[0mrecord\u001b[0m\u001b[1;33m.\u001b[0m\u001b[0mseq\u001b[0m\u001b[1;33m)\u001b[0m\u001b[1;33m%\u001b[0m\u001b[1;36m3\u001b[0m\u001b[1;33m)\u001b[0m\u001b[1;33m\u001b[0m\u001b[1;33m\u001b[0m\u001b[0m\n\u001b[0m\u001b[0;32m     34\u001b[0m     final_sequence = Bio.SeqRecord.SeqRecord(\n\u001b[0;32m     35\u001b[0m         \u001b[0mBio\u001b[0m\u001b[1;33m.\u001b[0m\u001b[0mSeq\u001b[0m\u001b[1;33m.\u001b[0m\u001b[0mSeq\u001b[0m\u001b[1;33m(\u001b[0m\u001b[0mfinal_sequence\u001b[0m\u001b[1;33m+\u001b[0m\u001b[1;34m'-'\u001b[0m\u001b[1;33m*\u001b[0m\u001b[0mlen\u001b[0m\u001b[1;33m(\u001b[0m\u001b[0mrecord\u001b[0m\u001b[1;33m.\u001b[0m\u001b[0mseq\u001b[0m\u001b[1;33m)\u001b[0m\u001b[1;33m%\u001b[0m\u001b[1;36m3\u001b[0m\u001b[1;33m)\u001b[0m\u001b[1;33m,\u001b[0m\u001b[1;33m\u001b[0m\u001b[1;33m\u001b[0m\u001b[0m\n",
      "\u001b[1;31mTypeError\u001b[0m: not all arguments converted during string formatting"
     ]
    }
   ],
   "source": [
    "import Bio\n",
    "from Bio import SeqIO\n",
    "from dnachisel import *\n",
    "\n",
    "finalSequence=list()\n",
    "\n",
    "HumanInsulinFASTA=list(SeqIO.parse(\"Genome/Human Insulin.fasta\",\"fasta\"))\n",
    "for record in HumanInsulinFASTA:\n",
    "    print(record.description)\n",
    "    print(record.seq)\n",
    "    strSeq=str(record.seq)[:(len(str(record.seq))//3)*3]\n",
    "    problem = DnaOptimizationProblem(\n",
    "        sequence=strSeq,\n",
    "        constraints=[\n",
    "            EnforceTranslation()\n",
    "        ],\n",
    "        objectives=[CodonOptimize(species=34199)]\n",
    "    )\n",
    "\n",
    "    # SOLVE THE CONSTRAINTS, OPTIMIZE WITH RESPECT TO THE OBJECTIVE\n",
    "\n",
    "    problem.resolve_constraints()\n",
    "    problem.optimize()\n",
    "\n",
    "    # PRINT SUMMARIES TO CHECK THAT CONSTRAINTS PASS\n",
    "\n",
    "    print(problem.constraints_text_summary())\n",
    "    print(problem.objectives_text_summary())\n",
    "\n",
    "    # GET THE FINAL SEQUENCE (AS STRING OR ANNOTATED BIOPYTHON RECORDS)\n",
    "\n",
    "    final_sequence = problem.sequence  # string\n",
    "    finalSequence+=('-'*len(record.seq)%3)\n",
    "    final_sequence = Bio.SeqRecord.SeqRecord(\n",
    "        Bio.Seq.Seq(final_sequence+'-'*len(record.seq)%3),\n",
    "        id=record.id,\n",
    "        name=record.name,\n",
    "        description=record.description+\" Optimized for Aloe vera based on Kazusa species 34199.\"\n",
    "    )\n",
    "    #final_record = problem.to_record(with_sequence_edits=True)\n",
    "    finalSequence.append(final_sequence)\n",
    "\n",
    "for newRecord in finalSequence:\n",
    "    print(newRecord.description)\n",
    "    print(newRecord.seq)\n",
    "\n",
    "SeqIO.write(finalSequence,\"Genome/Optimized Human Insulin.fasta\",\"fasta\")"
   ]
  },
  {
   "source": [
    "import Bio\n",
    "from Bio import SeqIO\n",
    "\n",
    "pCAMBIAFASTA=SeqIO.parse(\"Genome/pCAMBIA.fa\",\"fasta\")\n",
    "for record in pCAMBIAFASTA:\n",
    "    print(record.id)\n",
    "    print(record.seq)"
   ],
   "cell_type": "code",
   "metadata": {},
   "execution_count": null,
   "outputs": []
  },
  {
   "cell_type": "code",
   "execution_count": 2,
   "metadata": {},
   "outputs": [
    {
     "output_type": "stream",
     "name": "stdout",
     "text": [
      "Table 11 Bacterial, Archaeal, Plant Plastid\n\n  |  U      |  C      |  A      |  G      |\n--+---------+---------+---------+---------+--\nU | UUU F   | UCU S   | UAU Y   | UGU C   | U\nU | UUC F   | UCC S   | UAC Y   | UGC C   | C\nU | UUA L   | UCA S   | UAA Stop| UGA Stop| A\nU | UUG L(s)| UCG S   | UAG Stop| UGG W   | G\n--+---------+---------+---------+---------+--\nC | CUU L   | CCU P   | CAU H   | CGU R   | U\nC | CUC L   | CCC P   | CAC H   | CGC R   | C\nC | CUA L   | CCA P   | CAA Q   | CGA R   | A\nC | CUG L(s)| CCG P   | CAG Q   | CGG R   | G\n--+---------+---------+---------+---------+--\nA | AUU I(s)| ACU T   | AAU N   | AGU S   | U\nA | AUC I(s)| ACC T   | AAC N   | AGC S   | C\nA | AUA I(s)| ACA T   | AAA K   | AGA R   | A\nA | AUG M(s)| ACG T   | AAG K   | AGG R   | G\n--+---------+---------+---------+---------+--\nG | GUU V   | GCU A   | GAU D   | GGU G   | U\nG | GUC V   | GCC A   | GAC D   | GGC G   | C\nG | GUA V   | GCA A   | GAA E   | GGA G   | A\nG | GUG V(s)| GCG A   | GAG E   | GGG G   | G\n--+---------+---------+---------+---------+--\n"
     ]
    }
   ],
   "source": [
    "import Bio\n",
    "from Bio.Data import CodonTable\n",
    "\n",
    "print(CodonTable.unambiguous_rna_by_id[11])"
   ]
  },
  {
   "cell_type": "code",
   "execution_count": 19,
   "metadata": {},
   "outputs": [
    {
     "output_type": "stream",
     "name": "stdout",
     "text": [
      "465 : 465\n491 : 489\n644 : 642\n525 : 525\n"
     ]
    }
   ],
   "source": [
    "import Bio\n",
    "from Bio import AlignIO\n",
    "from Bio import SeqIO\n",
    "\n",
    "HumanInsulinFASTA=list(SeqIO.parse(\"Genome/Human Insulin.fasta\",\"fasta\"))\n",
    "OptimizedHumanInsulinFasta=list(SeqIO.parse(\"Genome/Optimized Human Insulin.fasta\",\"fasta\"))\n",
    "for _ in range (4):\n",
    "    print(\"%d : %d\" % (len(HumanInsulinFASTA[_].seq),len(OptimizedHumanInsulinFasta[_].seq)))"
   ]
  },
  {
   "cell_type": "code",
   "execution_count": null,
   "metadata": {},
   "outputs": [],
   "source": []
  }
 ]
}